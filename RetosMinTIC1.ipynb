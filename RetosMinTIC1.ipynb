{
  "nbformat": 4,
  "nbformat_minor": 0,
  "metadata": {
    "colab": {
      "name": "EjerciciosMinTIC1.ipynb",
      "provenance": []
    },
    "kernelspec": {
      "name": "python3",
      "display_name": "Python 3"
    },
    "language_info": {
      "name": "python"
    }
  },
  "cells": [
    {
      "cell_type": "markdown",
      "metadata": {
        "id": "_uZnLy_eX9_U"
      },
      "source": [
        "# Ejercicio 1\n",
        "Escriba programa en Python que lea dos datos numéricos reales y que luego los imprima en en una línea separados por la palabra “or”."
      ]
    },
    {
      "cell_type": "code",
      "metadata": {
        "id": "790Y8a5GXzDV",
        "colab": {
          "base_uri": "https://localhost:8080/"
        },
        "outputId": "4cd7df4a-ba49-4750-d28d-6e87a34877af"
      },
      "source": [
        "#a=8.2\n",
        "#b=-100.98\n",
        "a=float(input(\"Primer numero: \"))\n",
        "b=float(input(\"Segundo numero: \"))\n",
        "#print(a,b,sep=\" or \")\n",
        "print(a,\"or\",b)"
      ],
      "execution_count": null,
      "outputs": [
        {
          "output_type": "stream",
          "text": [
            "Primer numero: -8.2\n",
            "Segundo numero: 100.2\n",
            "-8.2 or 100.2\n"
          ],
          "name": "stdout"
        }
      ]
    },
    {
      "cell_type": "markdown",
      "metadata": {
        "id": "U6xhbL1nZ8m7"
      },
      "source": [
        "# Ejercicio 2\n",
        "Elabore un programa en Python que lea un entero de cuatro dígitos y produzca como salida los dígitos del número leído con su correspondiente mensaje. Por ejemplo, si el número leído es 1024, la salida deberá ser(sin texto adicional):\n",
        "1\n",
        "0\n",
        "2\n",
        "4"
      ]
    },
    {
      "cell_type": "code",
      "metadata": {
        "colab": {
          "base_uri": "https://localhost:8080/"
        },
        "id": "-XdvtlhY-GVr",
        "outputId": "9f649994-ed5b-4254-bf81-7e40207e2686"
      },
      "source": [
        "a=int(input(\"Numero de cuatro digitos \"))\n",
        "if (a>=1000 and a<=9999):\n",
        "  for i in range(4):\n",
        "    dig=a%10  #modulo\n",
        "    a=a//10  #division entera\n",
        "    print(dig)\n",
        "else:\n",
        "  print(\"El numero ingresado no es de 4 digitos\")\n"
      ],
      "execution_count": null,
      "outputs": [
        {
          "output_type": "stream",
          "text": [
            "Numero de cuatro digitos 1024\n",
            "4\n",
            "2\n",
            "0\n",
            "1\n"
          ],
          "name": "stdout"
        }
      ]
    },
    {
      "cell_type": "code",
      "metadata": {
        "colab": {
          "base_uri": "https://localhost:8080/"
        },
        "id": "E67LY7-iB-O-",
        "outputId": "25a680af-cb6e-436a-b9ad-79b8a1ce842d"
      },
      "source": [
        "a=int(input(\"Numero de cuatro digitos\"))\n",
        "num=[]\n",
        "if (a>=1000 and a<=9999):\n",
        "  for i in range(4):\n",
        "    dig=a%10  #modulo\n",
        "    a=a//10  #division entera\n",
        "    num.append(dig)\n",
        "  inv=(num[::-1])\n",
        "  for i in inv:\n",
        "    print(i)\n",
        "else:\n",
        "  print(\"El numero ingresado no es de 4 digitos\")\n",
        "\n"
      ],
      "execution_count": null,
      "outputs": [
        {
          "output_type": "stream",
          "text": [
            "Numero de cuatro digitos1024\n",
            "1\n",
            "0\n",
            "2\n",
            "4\n"
          ],
          "name": "stdout"
        }
      ]
    },
    {
      "cell_type": "code",
      "metadata": {
        "colab": {
          "base_uri": "https://localhost:8080/"
        },
        "id": "mcneyOKQQlaK",
        "outputId": "a391f04c-6940-4dd8-848d-00b8b6784361"
      },
      "source": [
        "a=int(input(\"Numero de cuatro digitos\"))\n",
        "b=str(a)\n",
        "if (a>=1000 and a<=9999):\n",
        "  for i in str(b):\n",
        "    print(i)\n",
        "else:\n",
        "  print(\"El numero ingresado no es de 4 digitos\")\n"
      ],
      "execution_count": null,
      "outputs": [
        {
          "output_type": "stream",
          "text": [
            "Numero de cuatro digitos1024\n",
            "1024\n",
            "1\n",
            "0\n",
            "2\n",
            "4\n"
          ],
          "name": "stdout"
        }
      ]
    },
    {
      "cell_type": "markdown",
      "metadata": {
        "id": "8Ldhmsw5D_YQ"
      },
      "source": [
        "# Ejercicio 3\n",
        "Elabore un programa en Python que lea una longitud en metros y la convierta y escriba en centímetros, pies y pulgadas.\n"
      ]
    },
    {
      "cell_type": "code",
      "metadata": {
        "colab": {
          "base_uri": "https://localhost:8080/"
        },
        "id": "W8qv6qxfEFtD",
        "outputId": "85a284c2-6cb8-44fd-9cce-4514e2ed59f7"
      },
      "source": [
        "med=int(input(\"Ingrese longitud: \"))\n",
        "cm=med*100\n",
        "ft=med*3.28084\n",
        "pul=med*39.3701\n",
        "print(cm,ft,pul)"
      ],
      "execution_count": null,
      "outputs": [
        {
          "output_type": "stream",
          "text": [
            "Ingrese longitud: 1024\n",
            "102400 3359.58016 40314.9824\n"
          ],
          "name": "stdout"
        }
      ]
    },
    {
      "cell_type": "markdown",
      "metadata": {
        "id": "gKwjPs2GHC7U"
      },
      "source": [
        "# Ejercicio 4\n",
        "Elabore programa en Python que le permita al usuario ingresar números enteros de manera indefinida, hasta que ingrese un número negativo, y al final imprimir la suma de los números enteros pares sin incluir el número negativo en la suma"
      ]
    },
    {
      "cell_type": "code",
      "metadata": {
        "colab": {
          "base_uri": "https://localhost:8080/"
        },
        "id": "isiKAP4Uiexm",
        "outputId": "b198e5ef-9bc8-4898-a2a6-493d47829da5"
      },
      "source": [
        "cont=0\n",
        "while (1):\n",
        "  num=int(input(\"Ingrese numero: \"))\n",
        "  if num>=0:\n",
        "    if num%2==0:\n",
        "      cont=cont+num\n",
        "  else:\n",
        "    print(\"La suma final es\",cont)\n",
        "    break\n"
      ],
      "execution_count": null,
      "outputs": [
        {
          "output_type": "stream",
          "text": [
            "Ingrese numero: 1\n",
            "Ingrese numero: 0\n",
            "Ingrese numero: 0\n",
            "Ingrese numero: 2\n",
            "Ingrese numero: 0\n",
            "Ingrese numero: -1\n",
            "La suma final es 2\n"
          ],
          "name": "stdout"
        }
      ]
    },
    {
      "cell_type": "markdown",
      "metadata": {
        "id": "FlNccEbSdOml"
      },
      "source": [
        "# Ejercicio 2 - 6 junio\n",
        "\n"
      ]
    },
    {
      "cell_type": "markdown",
      "metadata": {
        "id": "hcjgA3jSee2O"
      },
      "source": [
        "Elabore un programa en Python que genere un entero entre 15 y 30; luego, construya un objeto de la clase vector tal como la definida en el curso, con tamaño el número generado inicialmente. Luego, llene el vector con números enteros entre 1 y 99 generados aleatoriamente. Después, haga una copia del vector generado. Con el vector copiado elabore un programa en Python que intercambie los datos así: \n",
        "\n",
        "El primero con el penúltimo, el segundo con el último, el tercero con el trasantepenúltimo, el cuarto con el antepenúltimo y así sucesivamente.\n",
        "\n",
        "Cada dato se debe intercambiar solo una vez.\n",
        "\n",
        "Para obtener el resultado de su evaluación escriba su programa en el método solucion(). Dicho método debe retornar respectivamente el vector construido inicialmente y el vector modificado con base en el enunciado.\n",
        "\n",
        "En otras palabras, la última instrucción del método solución, sería:\n",
        "\n",
        "return nombreDelVectorCreado, nombreDelVectorModificado               \n",
        "\n",
        "Si el vector creado se llamó vec2 y el vector modificado se llamó vec2mod, sería:\n",
        "\n",
        "return vec2, vec2mod"
      ]
    },
    {
      "cell_type": "code",
      "metadata": {
        "colab": {
          "base_uri": "https://localhost:8080/"
        },
        "id": "8auN3y1ZnNi2",
        "outputId": "902fdd2d-c0f6-4c5d-97ee-6539dae4e107"
      },
      "source": [
        "import random\n",
        "def solucion(n):\n",
        "  vect=[0]*n\n",
        "  for i in range(n):\n",
        "    vect[i] = random.randint(1,99)\n",
        "  #print(vect)\n",
        "  vectMod=vect[:]\n",
        "  res=1\n",
        "  for i in range(n//2):\n",
        "    aux=vectMod[i]\n",
        "    vectMod[i]=vectMod[n-res]\n",
        "    vectMod[n-res]=aux\n",
        "    res=res+1\n",
        "  #print(vectMod)\n",
        "  return vect, vectMod\n",
        "\n",
        "num=random.randint(9,10)\n",
        "solucion(num)"
      ],
      "execution_count": null,
      "outputs": [
        {
          "output_type": "execute_result",
          "data": {
            "text/plain": [
              "([64, 75, 8, 26, 56, 16, 75, 96, 5], [5, 96, 75, 16, 56, 26, 8, 75, 64])"
            ]
          },
          "metadata": {
            "tags": []
          },
          "execution_count": 191
        }
      ]
    },
    {
      "cell_type": "markdown",
      "metadata": {
        "id": "hVkZl-BxeIXS"
      },
      "source": [
        "# Reto 1\n"
      ]
    },
    {
      "cell_type": "markdown",
      "metadata": {
        "id": "AM7VZ355eTPH"
      },
      "source": [
        "El siguiente código ha perdido algunas de sus líneas.  Su trabajo es completar las líneas de código que faltan, las cuales están marcadas claramente con textos que describen lo que la línea debe hacer. Todo el programa realiza las siguientes acciones:\n",
        "\n",
        "Se genera un entero entre 5 y 10; luego se construye un objeto de la clase vector (esta clase ya existe) tal como la definida en el curso.  El tamaño del vector es el número generado inicialmente. Luego, se llena el vector con números enteros entre 1 y 9 generados aleatoriamente.\n",
        "\n",
        "Posteriormente se realiza una copia del vector generado.\n",
        "\n",
        "Se modifica la copia del vector, de tal manera que en la primera posición del vector copia quede el resultado de sumar todos los datos del vector desde la primera posición hasta la última. En la segunda posición del vector, quede la suma de todos los datos desde la segunda posición hasta la última. En la tercera posición la suma de todos los datos desde la tercera posición hasta la última, y así sucesivamente."
      ]
    },
    {
      "cell_type": "code",
      "metadata": {
        "id": "auesRMnnF-A5"
      },
      "source": [
        "from vector import vector\n",
        "import random\n",
        "import math\n",
        "\n",
        "def imprimeVector(vector, mensaje=\"vector sin nombre: \\t\"):\n",
        "        print(\"\\n\", mensaje, end=\"        \")\n",
        "        for i in range(1, vector.V[0]+1):\n",
        "            print(vector.V[i], end=\", \")\n",
        "            if i % 30 == 0:\n",
        "                print(\"\\n                      \", end =\"\")\n",
        "        print()\n",
        "\n",
        "def solucion():\n",
        "    n = random.randint(5,10)\n",
        "    vec_org18 = vector(n)\n",
        "    for i in range(1, n + 1):\n",
        "        vec_org18.V[i] = random.randint(1,9)\n",
        "    vec_org18.V[0] = n\n",
        "    vec_mod18 = vector(n)\n",
        "    for i in range(0, n + 1):\n",
        "        vec_mod18.V[i]=vec_org18.V[i]\n",
        "    vec_mod18.V[0] = n\n",
        "    for i in range(1, n):\n",
        "        s = 0\n",
        "        for j in range(i, n + 1):\n",
        "            s=s+vec_mod18.V[j]\n",
        "        vec_mod18.V[i] = s\n",
        "    return vec_org18, vec_mod18\n",
        "\n",
        "a, b = solucion()\n",
        "imprimeVector(a, 'Original')\n",
        "imprimeVector(b, 'Modificado')"
      ],
      "execution_count": null,
      "outputs": []
    },
    {
      "cell_type": "markdown",
      "metadata": {
        "id": "CLcM4ou8FhvM"
      },
      "source": [
        "# Reto 2\n"
      ]
    },
    {
      "cell_type": "code",
      "metadata": {
        "colab": {
          "base_uri": "https://localhost:8080/"
        },
        "id": "HwZREAswVSIG",
        "outputId": "c778dea4-17b1-49a5-aa33-6cddddb0e60b"
      },
      "source": [
        "from math import sqrt\n",
        "import numpy as np\n",
        "\n",
        "def solucion(a):\n",
        "\n",
        "    vector=np.array(a)\n",
        "    t=len(vector)   #tamaño del vector\n",
        "    #L=n*(n+1)/2 \n",
        "    n=int((-1+sqrt(1+8*t))/2)  \n",
        "    matriz=np.zeros((n,n))\n",
        "    \n",
        "    k=0\n",
        "    for i in range (0,n): \n",
        "      for j in range(0,n):\n",
        "        if (i>=j): \n",
        "            matriz[i][j]=vector[k]\n",
        "            k+=1\n",
        "\n",
        "    return matriz\n",
        " \n",
        "#NO MODIFICAR\n",
        "l = [8, 60, 72, 35, 26, 75, 15, 12, 33, 54]\n",
        "matriz_correcta = np.array([[ 8.,  0.,  0.,  0.], [60., 72.,  0.,  0.], [35., 26., 75.,  0.], [15., 12., 33., 54.]])\n",
        "matriz_estudiante = np.array(solucion(l))\n",
        "print(\"LISTA ENTREGADA:\\n\", l,\"\\n\")\n",
        "print(\"===SALIDA ESPERADA===\\nMatriz:\\n\", matriz_correcta,\"\\n\")\n",
        "print(\"===TU SALIDA===\\nMatriz:\\n\", matriz_estudiante,\"\\n\")\n",
        "\n",
        "for i in range(matriz_correcta.shape[0]):\n",
        "    for j in range(matriz_correcta.shape[1]):\n",
        "        if matriz_correcta[i,j] != matriz_estudiante[i,j]:\n",
        "            print(\"Las salidas no coinciden, ¡Estás olvidando algo en tu código!\")\n",
        "            exit()\n",
        "print(\"Todo se ve correcto, ¡Procede a calificar tu código!\")"
      ],
      "execution_count": null,
      "outputs": [
        {
          "output_type": "stream",
          "text": [
            "LISTA ENTREGADA:\n",
            " [8, 60, 72, 35, 26, 75, 15, 12, 33, 54] \n",
            "\n",
            "===SALIDA ESPERADA===\n",
            "Matriz:\n",
            " [[ 8.  0.  0.  0.]\n",
            " [60. 72.  0.  0.]\n",
            " [35. 26. 75.  0.]\n",
            " [15. 12. 33. 54.]] \n",
            "\n",
            "===TU SALIDA===\n",
            "Matriz:\n",
            " [[ 8.  0.  0.  0.]\n",
            " [60. 72.  0.  0.]\n",
            " [35. 26. 75.  0.]\n",
            " [15. 12. 33. 54.]] \n",
            "\n",
            "Todo se ve correcto, ¡Procede a calificar tu código!\n"
          ],
          "name": "stdout"
        }
      ]
    },
    {
      "cell_type": "markdown",
      "metadata": {
        "id": "Pg0nRYc6q0NA"
      },
      "source": [
        "# Reto 3\n"
      ]
    },
    {
      "cell_type": "code",
      "metadata": {
        "colab": {
          "base_uri": "https://localhost:8080/",
          "height": 35
        },
        "id": "oHu0UwQndkJy",
        "outputId": "8949cbf3-02d3-4d69-dfa1-16cd17ca30a6"
      },
      "source": [
        "def traductor_a_espanol(mensaje_a_traducir):\n",
        "  dic={'/':' ','.-':'A','-...':'B','-.-.':'C','-..':'D','.':'E','..-.':'F','--.':'G','....':'H','..':'I','.---':'J','-.-':'K','.-..':'L','--':'M','-.':'N','---':'O','.--.':'P','--.-':'Q','.-.':'R','...':'S','-':'T','..-':'U','...-':'V','.--':'W','-..-':'X','-.--':'Y','--..':'Z'}\n",
        "  sep_words = mensaje_a_traducir.split()\n",
        "  cadena=\"\"\n",
        "  for letter in sep_words:\n",
        "    cadena=cadena+dic[letter]\n",
        "  return cadena\n",
        "  \n",
        "mensaje='.... --- .-.. .- / -- ..- -. -.. ---'\n",
        "traslate=traductor_a_espanol(mensaje)\n",
        "traslate"
      ],
      "execution_count": null,
      "outputs": [
        {
          "output_type": "execute_result",
          "data": {
            "application/vnd.google.colaboratory.intrinsic+json": {
              "type": "string"
            },
            "text/plain": [
              "'HOLA MUNDO'"
            ]
          },
          "metadata": {
            "tags": []
          },
          "execution_count": 22
        }
      ]
    },
    {
      "cell_type": "markdown",
      "metadata": {
        "id": "faoGZR8i-Z5b"
      },
      "source": [
        "# Reto 4"
      ]
    },
    {
      "cell_type": "code",
      "metadata": {
        "colab": {
          "base_uri": "https://localhost:8080/"
        },
        "id": "vmRjfJylKWdf",
        "outputId": "6ea56302-ccb0-45e7-d611-fa74f44bf271"
      },
      "source": [
        "# FINAL\n",
        "\n",
        "# cliente.py\n",
        "\n",
        "#NO MODIFICAR, NI AGREGAR CÓDIGO EN ESTE ARCHIVO\n",
        "class cliente:\n",
        "  def __init__(self, nombre, edad, dinero_cuenta_bancaria, fila_interes, transaccion, cantidad_retirar, cantidad_consignar):\n",
        "    self.nombre = nombre\n",
        "    self.edad = edad\n",
        "    self.dinero_cuenta_bancaria = dinero_cuenta_bancaria\n",
        "    self.fila_interes = fila_interes\n",
        "    self.transaccion = transaccion\n",
        "    self.cantidad_retirar = cantidad_retirar\n",
        "    self.cantidad_consignar = cantidad_consignar\n",
        "\n",
        "\n",
        "# SOLUCION.PY\n",
        "\n",
        "#NO ELIMINAR LAS SIGUIENTES IMPORTACIONES, sirven para probar tu código en consola, y el funcionamiento de la clase cliente\n",
        "#from pruebas import pruebas_codigo_estudiante\n",
        "#from cliente import cliente\n",
        "\n",
        "def sede_bancaria(cola_general):\n",
        "    cola_caja=[]\n",
        "    cola_info=[]\n",
        "    suma_retiros=0\n",
        "    suma_consignaciones=0\n",
        "    edad_minima_retiro=-1\n",
        "    edad_minima_info=-1\n",
        "    edad_minima_consignacion=-1\n",
        "    \n",
        "    for instancia in cola_general:\n",
        "        objeto=instancia\n",
        "        if objeto.fila_interes==\"caja\":\n",
        "            cola_caja.append(objeto.nombre)\n",
        "            #tipos de transaccion\n",
        "            if objeto.transaccion==\"retirar\":\n",
        "                suma_retiros+=objeto.cantidad_retirar\n",
        "                if edad_minima_retiro==-1:\n",
        "                    edad_minima_retiro=objeto.edad\n",
        "                elif edad_minima_retiro>=objeto.edad:\n",
        "                    edad_minima_retiro=objeto.edad\n",
        "            elif objeto.transaccion==\"consignar\":\n",
        "                suma_consignaciones+=objeto.cantidad_consignar\n",
        "                if edad_minima_consignacion==-1:\n",
        "                    edad_minima_consignacion=objeto.edad\n",
        "                elif edad_minima_consignacion>=objeto.edad:\n",
        "                    edad_minima_consignacion=objeto.edad\n",
        "        else:\n",
        "            cola_info.append(objeto.nombre)\n",
        "            if edad_minima_info==-1:\n",
        "                edad_minima_info=objeto.edad\n",
        "            elif edad_minima_info>=objeto.edad:\n",
        "                edad_minima_info=objeto.edad\n",
        "              \n",
        "        \n",
        "    return cola_caja, cola_info, suma_retiros, suma_consignaciones, edad_minima_retiro, edad_minima_info, edad_minima_consignacion\n",
        "\n",
        "#pruebas_codigo_estudiante(sede_bancaria)\n",
        "cola_general =[cliente(\"Matt\",21,235000,\"caja\",\"retirar\",100000,0),cliente(\"Dan\",32,658000,\"caja\",\"retirar\",98000,0),cliente(\"Diana\",29,87000,\"info\",\"ninguna\",0,0),]\n",
        "sede_bancaria(cola_general)\n"
      ],
      "execution_count": null,
      "outputs": [
        {
          "output_type": "execute_result",
          "data": {
            "text/plain": [
              "(['Matt', 'Dan'], ['Diana'], 198000, 0, 21, 29, -1)"
            ]
          },
          "metadata": {
            "tags": []
          },
          "execution_count": 3
        }
      ]
    }
  ]
}